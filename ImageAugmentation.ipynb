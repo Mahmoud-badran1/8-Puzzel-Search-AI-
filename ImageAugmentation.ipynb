{
  "nbformat": 4,
  "nbformat_minor": 0,
  "metadata": {
    "colab": {
      "name": "ImageAugmentation.ipynb",
      "provenance": [],
      "collapsed_sections": [],
      "include_colab_link": true
    },
    "kernelspec": {
      "name": "python3",
      "display_name": "Python 3"
    },
    "language_info": {
      "name": "python"
    }
  },
  "cells": [
    {
      "cell_type": "markdown",
      "metadata": {
        "id": "view-in-github",
        "colab_type": "text"
      },
      "source": [
        "<a href=\"https://colab.research.google.com/github/mahmoud-Moru/8-Puzzel-Search-AI-/blob/main/ImageAugmentation.ipynb\" target=\"_parent\"><img src=\"https://colab.research.google.com/assets/colab-badge.svg\" alt=\"Open In Colab\"/></a>"
      ]
    },
    {
      "cell_type": "markdown",
      "source": [
        "input the images "
      ],
      "metadata": {
        "id": "agV0uqw8LmQn"
      }
    },
    {
      "cell_type": "code",
      "source": [
        "from google.colab import drive\n",
        "drive.mount('/content/drive')"
      ],
      "metadata": {
        "colab": {
          "base_uri": "https://localhost:8080/"
        },
        "id": "uMdBtWRSkQp-",
        "outputId": "80f69646-9fb8-4453-a555-29f7de87129e"
      },
      "execution_count": 1,
      "outputs": [
        {
          "output_type": "stream",
          "name": "stdout",
          "text": [
            "Mounted at /content/drive\n"
          ]
        }
      ]
    },
    {
      "cell_type": "code",
      "source": [
        "import sys\n",
        "import time\n",
        "import matplotlib as mpl\n",
        "import matplotlib.pyplot as plt\n",
        "import matplotlib.image as mpimg\n",
        "import cv2\n",
        "import numpy as np\n",
        "from PIL import Image\n",
        "import tensorflow as tf"
      ],
      "metadata": {
        "id": "mDmAilHHM9A5"
      },
      "execution_count": 2,
      "outputs": []
    },
    {
      "cell_type": "code",
      "source": [
        "# main function difinition\n",
        "def main(image):\n",
        "\n",
        "# 2. Read a given RGB colour image using the image file name in order to select the image. \n",
        "  img_rgb = mpimg.imread('/content/drive/MyDrive/Images/'+imageName+'.jpg')\n",
        "\n",
        "# 3. Convert the image to grayscale.\n",
        "  img_gray = cv2.cvtColor(img_rgb, cv2.COLOR_BGR2GRAY)\n",
        "# 4. Convert the image to a black & white image\n",
        "\n",
        "  (threshi, img_bw) = cv2.threshold(img_gray, 0, 255, cv2.THRESH_BINARY | cv2.THRESH_OTSU)\n",
        "\n",
        "\n",
        "  print(\"-----------------------img_rgb shape-----------------------\")\n",
        "  print(img_rgb.shape)\n",
        "  print('-----------------------rgb_gray shape-----------------------')\n",
        "  print(img_gray.shape)\n",
        "  print('-----------------------img black_white shape -----------------------')\n",
        "  print(img_bw.shape)\n",
        "\n",
        "\n",
        " \n",
        "  print('-- Use Matplotlib to display images')\n",
        "\n",
        "  fig, axs = plt.subplots(1, 4, figsize=(14, 4))\n",
        "  plt.suptitle('Images')\n",
        "\n",
        "  axs[0].imshow(img_rgb)\n",
        "  axs[0].set_title('Raw image', fontsize=10)\n",
        "  axs[0].set_xlabel('x pixel', fontsize=10)\n",
        "  axs[0].set_ylabel('y pixel', fontsize=10)\n",
        "\n",
        "#\n",
        "  axs[1].imshow(img_gray, cmap = 'gray')\n",
        "  axs[1].set_title('Grayscale image', fontsize=10)\n",
        "  axs[1].set_xlabel('x pixel', fontsize=10)\n",
        "  axs[1].set_ylabel('y pixel', fontsize=10)\n",
        "  saved_gray_img = '/content/savedImages/'+imageName+'-saved_gray_img.jpg'\n",
        "  cv2.imwrite(saved_gray_img, img_gray)\n",
        "#\n",
        "  axs[2].imshow(img_bw, cmap = 'gray')\n",
        "  axs[2].set_title('Black and white image', fontsize=10)\n",
        "  axs[2].set_xlabel('x pixel', fontsize=10)\n",
        "  axs[2].set_ylabel('y pixel', fontsize=10)\n",
        "  saved_bw_img  = '/content/savedImages/'+imageName+'-saved_bw_img.jpg'\n",
        "  cv2.imwrite(saved_bw_img, img_bw)\n",
        "\n",
        "#\n",
        "  axs[3].set_title('rgb_mofied')\n",
        "  axs[3].set_xlabel('x pixel', fontsize=10)\n",
        "  axs[3].set_ylabel('y pixel', fontsize=10)\n",
        "\n",
        "\n",
        "  # ------------------------------------------------------\n",
        "  # -- End of script run actions\n",
        "  # ------------------------------------------------------\n",
        "\n",
        "  print('----------------------------------------------------')\n",
        "  print('-- End script run ' + str(time.strftime('%c')))\n",
        "  print('----------------------------------------------------\\n')\n"
      ],
      "metadata": {
        "id": "lMU-sKMXTmYm"
      },
      "execution_count": 35,
      "outputs": []
    },
    {
      "cell_type": "code",
      "source": [
        "def adjustRGB(imageName):\n",
        "    img_copy = cv2.imread('/content/drive/MyDrive/Images/'+imageName+'.jpg')\n",
        "    option = input('Choose the value type to change. Accepted values: \"r\", \"g\", \"b\": ').lower()\n",
        "\n",
        "    if option == 'r':\n",
        "         index = 2\n",
        "    elif option == 'g':\n",
        "         index = 1\n",
        "    elif option == 'b':\n",
        "         index = 0\n",
        "    else:\n",
        "        print('Invalid option. Accepted values: \"r\", \"g\", \"b\"')\n",
        "        adjustRGB(imageName)\n",
        "\n",
        "\n",
        "    thresh = int(input('Please input a threshold value between 0 - 255: '))\n",
        "    if thresh < 0 or thresh > 256:\n",
        "        adjustRGB(imageName)\n",
        "\n",
        "\n",
        "    img_copy[:, :, index] = thresh\n",
        "    adjusted_img = tf.cast(img_copy[..., ::-1], tf.int32)\n",
        "\n",
        "\n",
        "    plt.imshow(img_copy)\n",
        "   # cv2.imwrite(modifiedImg, imageName)\n",
        "    filename  = '/content/savedImages/'+imageName+'-RGB_modifed.jpg'\n",
        "    cv2.imwrite(filename, img_copy)\n",
        "\n",
        "  \n",
        "    # Using cv2.imwrite() method\n",
        "    # Saving the image\n"
      ],
      "metadata": {
        "id": "PYctu1Ihrmvr"
      },
      "execution_count": 33,
      "outputs": []
    },
    {
      "cell_type": "code",
      "source": [
        "print('Here is the list of images for augmentation process: \\n')\n",
        "\n",
        "picList = [\"bicycle\", \"building\", \"caffee\", \"cards\", \"cat\",\"dog\", \"flower\", \"fruits\", \"kids\", \"tree\"]\n",
        "print('----------------------------------------------------')\n",
        "  \n",
        "\n",
        "# 1. List the names of the available images. \n",
        "# printing the list using loop\n",
        "\n",
        "for pic in range(len(picList)):\n",
        "    print (picList[pic])\n",
        "# ------------------------------------------------------------------------------------------------\n",
        "\n",
        "# 2. Read a given RGB colour image using the image file name in order to select the image. \n",
        "\n",
        "print('\\n ----------------------------------------------------\\n')\n",
        "imageName = input(\"Enter a name from the listed names to select the picture:\")\n",
        "\n",
        "print('----------------------------------------------------')\n",
        "\n",
        "while (imageName not in picList):\n",
        "    print(\"Please check your entry! It is not in the list (check also case sensitivity)\")\n",
        "    print('----------------------------------------------------')\n",
        "    imageName = input(\"Enter a name from the listed names to select the picture:\\n\")\n",
        "    \n",
        "\n",
        "#5. afjust the RGB pictures \n",
        "      \n",
        "main(imageName)\n",
        "\n",
        "#\n",
        "adjustRGB(imageName)\n",
        "\n",
        "# ------------------------------------------------------\n",
        "# Run only if source file is run as the main script\n",
        "# ------------------------------------------------------\n"
      ],
      "metadata": {
        "colab": {
          "base_uri": "https://localhost:8080/"
        },
        "id": "kiy4NhcHPIH3",
        "outputId": "40f742f7-7758-4d87-d81d-5b55bc3227b4"
      },
      "execution_count": null,
      "outputs": [
        {
          "output_type": "stream",
          "name": "stdout",
          "text": [
            "Here is the list of images for augmentation process: \n",
            "\n",
            "----------------------------------------------------\n",
            "bicycle\n",
            "building\n",
            "caffee\n",
            "cards\n",
            "cat\n",
            "dog\n",
            "flower\n",
            "fruits\n",
            "kids\n",
            "tree\n",
            "\n",
            " ----------------------------------------------------\n",
            "\n",
            "Enter a name from the listed names to select the picture:cat\n",
            "----------------------------------------------------\n",
            "-----------------------img_rgb shape-----------------------\n",
            "(666, 1000, 3)\n",
            "-----------------------rgb_gray shape-----------------------\n",
            "(666, 1000)\n",
            "-----------------------img black_white shape -----------------------\n",
            "(666, 1000)\n",
            "-- Use Matplotlib to display images\n",
            "----------------------------------------------------\n",
            "-- End script run Tue May 31 16:00:16 2022\n",
            "----------------------------------------------------\n",
            "\n",
            "in order to adjust the Colors: \n",
            "\n"
          ]
        }
      ]
    }
  ]
}